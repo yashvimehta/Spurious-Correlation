{
  "nbformat": 4,
  "nbformat_minor": 0,
  "metadata": {
    "colab": {
      "provenance": []
    },
    "kernelspec": {
      "name": "python3",
      "display_name": "Python 3"
    },
    "language_info": {
      "name": "python"
    }
  },
  "cells": [
    {
      "cell_type": "markdown",
      "source": [
        "#Installations"
      ],
      "metadata": {
        "id": "8aYllV_sFwCI"
      }
    },
    {
      "cell_type": "code",
      "execution_count": 5,
      "metadata": {
        "colab": {
          "base_uri": "https://localhost:8080/"
        },
        "id": "FhkXlclz0Jj3",
        "outputId": "67703894-655b-42a2-b760-c2c5babfb11a"
      },
      "outputs": [
        {
          "output_type": "stream",
          "name": "stdout",
          "text": [
            "Requirement already satisfied: spuco in /usr/local/lib/python3.10/dist-packages (1.0.3)\n",
            "Requirement already satisfied: matplotlib>=3.7.1 in /usr/local/lib/python3.10/dist-packages (from spuco) (3.7.1)\n",
            "Requirement already satisfied: numpy>=1.23.5 in /usr/local/lib/python3.10/dist-packages (from spuco) (1.25.2)\n",
            "Requirement already satisfied: setuptools>=61.0 in /usr/local/lib/python3.10/dist-packages (from spuco) (67.7.2)\n",
            "Requirement already satisfied: torch>=2.0.0 in /usr/local/lib/python3.10/dist-packages (from spuco) (2.3.0+cu121)\n",
            "Requirement already satisfied: torchvision>=0.15.1 in /usr/local/lib/python3.10/dist-packages (from spuco) (0.18.0+cu121)\n",
            "Requirement already satisfied: tqdm>=4.65.0 in /usr/local/lib/python3.10/dist-packages (from spuco) (4.66.4)\n",
            "Requirement already satisfied: scikit-learn>=0.20.0 in /usr/local/lib/python3.10/dist-packages (from spuco) (1.2.2)\n",
            "Requirement already satisfied: wilds>=2.0.0 in /usr/local/lib/python3.10/dist-packages (from spuco) (2.0.0)\n",
            "Requirement already satisfied: transformers>=3.5.0 in /usr/local/lib/python3.10/dist-packages (from spuco) (4.41.0)\n",
            "Requirement already satisfied: contourpy>=1.0.1 in /usr/local/lib/python3.10/dist-packages (from matplotlib>=3.7.1->spuco) (1.2.1)\n",
            "Requirement already satisfied: cycler>=0.10 in /usr/local/lib/python3.10/dist-packages (from matplotlib>=3.7.1->spuco) (0.12.1)\n",
            "Requirement already satisfied: fonttools>=4.22.0 in /usr/local/lib/python3.10/dist-packages (from matplotlib>=3.7.1->spuco) (4.51.0)\n",
            "Requirement already satisfied: kiwisolver>=1.0.1 in /usr/local/lib/python3.10/dist-packages (from matplotlib>=3.7.1->spuco) (1.4.5)\n",
            "Requirement already satisfied: packaging>=20.0 in /usr/local/lib/python3.10/dist-packages (from matplotlib>=3.7.1->spuco) (24.0)\n",
            "Requirement already satisfied: pillow>=6.2.0 in /usr/local/lib/python3.10/dist-packages (from matplotlib>=3.7.1->spuco) (9.4.0)\n",
            "Requirement already satisfied: pyparsing>=2.3.1 in /usr/local/lib/python3.10/dist-packages (from matplotlib>=3.7.1->spuco) (3.1.2)\n",
            "Requirement already satisfied: python-dateutil>=2.7 in /usr/local/lib/python3.10/dist-packages (from matplotlib>=3.7.1->spuco) (2.8.2)\n",
            "Requirement already satisfied: scipy>=1.3.2 in /usr/local/lib/python3.10/dist-packages (from scikit-learn>=0.20.0->spuco) (1.11.4)\n",
            "Requirement already satisfied: joblib>=1.1.1 in /usr/local/lib/python3.10/dist-packages (from scikit-learn>=0.20.0->spuco) (1.4.2)\n",
            "Requirement already satisfied: threadpoolctl>=2.0.0 in /usr/local/lib/python3.10/dist-packages (from scikit-learn>=0.20.0->spuco) (3.5.0)\n",
            "Requirement already satisfied: filelock in /usr/local/lib/python3.10/dist-packages (from torch>=2.0.0->spuco) (3.14.0)\n",
            "Requirement already satisfied: typing-extensions>=4.8.0 in /usr/local/lib/python3.10/dist-packages (from torch>=2.0.0->spuco) (4.11.0)\n",
            "Requirement already satisfied: sympy in /usr/local/lib/python3.10/dist-packages (from torch>=2.0.0->spuco) (1.12)\n",
            "Requirement already satisfied: networkx in /usr/local/lib/python3.10/dist-packages (from torch>=2.0.0->spuco) (3.3)\n",
            "Requirement already satisfied: jinja2 in /usr/local/lib/python3.10/dist-packages (from torch>=2.0.0->spuco) (3.1.4)\n",
            "Requirement already satisfied: fsspec in /usr/local/lib/python3.10/dist-packages (from torch>=2.0.0->spuco) (2023.6.0)\n",
            "Requirement already satisfied: nvidia-cuda-nvrtc-cu12==12.1.105 in /usr/local/lib/python3.10/dist-packages (from torch>=2.0.0->spuco) (12.1.105)\n",
            "Requirement already satisfied: nvidia-cuda-runtime-cu12==12.1.105 in /usr/local/lib/python3.10/dist-packages (from torch>=2.0.0->spuco) (12.1.105)\n",
            "Requirement already satisfied: nvidia-cuda-cupti-cu12==12.1.105 in /usr/local/lib/python3.10/dist-packages (from torch>=2.0.0->spuco) (12.1.105)\n",
            "Requirement already satisfied: nvidia-cudnn-cu12==8.9.2.26 in /usr/local/lib/python3.10/dist-packages (from torch>=2.0.0->spuco) (8.9.2.26)\n",
            "Requirement already satisfied: nvidia-cublas-cu12==12.1.3.1 in /usr/local/lib/python3.10/dist-packages (from torch>=2.0.0->spuco) (12.1.3.1)\n",
            "Requirement already satisfied: nvidia-cufft-cu12==11.0.2.54 in /usr/local/lib/python3.10/dist-packages (from torch>=2.0.0->spuco) (11.0.2.54)\n",
            "Requirement already satisfied: nvidia-curand-cu12==10.3.2.106 in /usr/local/lib/python3.10/dist-packages (from torch>=2.0.0->spuco) (10.3.2.106)\n",
            "Requirement already satisfied: nvidia-cusolver-cu12==11.4.5.107 in /usr/local/lib/python3.10/dist-packages (from torch>=2.0.0->spuco) (11.4.5.107)\n",
            "Requirement already satisfied: nvidia-cusparse-cu12==12.1.0.106 in /usr/local/lib/python3.10/dist-packages (from torch>=2.0.0->spuco) (12.1.0.106)\n",
            "Requirement already satisfied: nvidia-nccl-cu12==2.20.5 in /usr/local/lib/python3.10/dist-packages (from torch>=2.0.0->spuco) (2.20.5)\n",
            "Requirement already satisfied: nvidia-nvtx-cu12==12.1.105 in /usr/local/lib/python3.10/dist-packages (from torch>=2.0.0->spuco) (12.1.105)\n",
            "Requirement already satisfied: triton==2.3.0 in /usr/local/lib/python3.10/dist-packages (from torch>=2.0.0->spuco) (2.3.0)\n",
            "Requirement already satisfied: nvidia-nvjitlink-cu12 in /usr/local/lib/python3.10/dist-packages (from nvidia-cusolver-cu12==11.4.5.107->torch>=2.0.0->spuco) (12.5.40)\n",
            "Requirement already satisfied: huggingface-hub<1.0,>=0.23.0 in /usr/local/lib/python3.10/dist-packages (from transformers>=3.5.0->spuco) (0.23.1)\n",
            "Requirement already satisfied: pyyaml>=5.1 in /usr/local/lib/python3.10/dist-packages (from transformers>=3.5.0->spuco) (6.0.1)\n",
            "Requirement already satisfied: regex!=2019.12.17 in /usr/local/lib/python3.10/dist-packages (from transformers>=3.5.0->spuco) (2023.12.25)\n",
            "Requirement already satisfied: requests in /usr/local/lib/python3.10/dist-packages (from transformers>=3.5.0->spuco) (2.31.0)\n",
            "Requirement already satisfied: tokenizers<0.20,>=0.19 in /usr/local/lib/python3.10/dist-packages (from transformers>=3.5.0->spuco) (0.19.1)\n",
            "Requirement already satisfied: safetensors>=0.4.1 in /usr/local/lib/python3.10/dist-packages (from transformers>=3.5.0->spuco) (0.4.3)\n",
            "Requirement already satisfied: ogb>=1.2.6 in /usr/local/lib/python3.10/dist-packages (from wilds>=2.0.0->spuco) (1.3.6)\n",
            "Requirement already satisfied: outdated>=0.2.0 in /usr/local/lib/python3.10/dist-packages (from wilds>=2.0.0->spuco) (0.2.2)\n",
            "Requirement already satisfied: pandas>=1.1.0 in /usr/local/lib/python3.10/dist-packages (from wilds>=2.0.0->spuco) (2.0.3)\n",
            "Requirement already satisfied: pytz>=2020.4 in /usr/local/lib/python3.10/dist-packages (from wilds>=2.0.0->spuco) (2023.4)\n",
            "Requirement already satisfied: six>=1.12.0 in /usr/local/lib/python3.10/dist-packages (from ogb>=1.2.6->wilds>=2.0.0->spuco) (1.16.0)\n",
            "Requirement already satisfied: urllib3>=1.24.0 in /usr/local/lib/python3.10/dist-packages (from ogb>=1.2.6->wilds>=2.0.0->spuco) (2.0.7)\n",
            "Requirement already satisfied: littleutils in /usr/local/lib/python3.10/dist-packages (from outdated>=0.2.0->wilds>=2.0.0->spuco) (0.2.2)\n",
            "Requirement already satisfied: tzdata>=2022.1 in /usr/local/lib/python3.10/dist-packages (from pandas>=1.1.0->wilds>=2.0.0->spuco) (2024.1)\n",
            "Requirement already satisfied: MarkupSafe>=2.0 in /usr/local/lib/python3.10/dist-packages (from jinja2->torch>=2.0.0->spuco) (2.1.5)\n",
            "Requirement already satisfied: charset-normalizer<4,>=2 in /usr/local/lib/python3.10/dist-packages (from requests->transformers>=3.5.0->spuco) (3.3.2)\n",
            "Requirement already satisfied: idna<4,>=2.5 in /usr/local/lib/python3.10/dist-packages (from requests->transformers>=3.5.0->spuco) (3.7)\n",
            "Requirement already satisfied: certifi>=2017.4.17 in /usr/local/lib/python3.10/dist-packages (from requests->transformers>=3.5.0->spuco) (2024.2.2)\n",
            "Requirement already satisfied: mpmath>=0.19 in /usr/local/lib/python3.10/dist-packages (from sympy->torch>=2.0.0->spuco) (1.3.0)\n"
          ]
        }
      ],
      "source": [
        "%pip install spuco"
      ]
    },
    {
      "cell_type": "code",
      "source": [
        "from spuco.utils import set_seed\n",
        "set_seed(0)"
      ],
      "metadata": {
        "id": "V3XTT98j1EQv"
      },
      "execution_count": 6,
      "outputs": []
    },
    {
      "cell_type": "code",
      "source": [
        "import torch\n",
        "device = torch.device(\"cpu\")"
      ],
      "metadata": {
        "id": "cGAVOgxrOso2"
      },
      "execution_count": 7,
      "outputs": []
    },
    {
      "cell_type": "markdown",
      "source": [
        "#Creating Data\n"
      ],
      "metadata": {
        "id": "Sau8CyJlGK_H"
      }
    },
    {
      "cell_type": "code",
      "source": [
        "from spuco.datasets import SpuCoMNIST, SpuriousFeatureDifficulty\n",
        "import torchvision.transforms as T\n",
        "\n",
        "classes = [[0, 1], [2, 3], [4, 5], [6, 7], [8, 9]]\n",
        "\n",
        "difficulty = SpuriousFeatureDifficulty.MAGNITUDE_LARGE\n",
        "\n",
        "trainset = SpuCoMNIST(\n",
        "    root=\"/data/mnist/\",\n",
        "    spurious_feature_difficulty=difficulty,\n",
        "    spurious_correlation_strength=0.995,\n",
        "    classes=classes,\n",
        "    split=\"train\"\n",
        ")\n",
        "trainset.initialize()\n",
        "\n",
        "testset = SpuCoMNIST(\n",
        "    root=\"/data/mnist/\",\n",
        "    spurious_feature_difficulty=difficulty,\n",
        "    classes=classes,\n",
        "    split=\"test\"\n",
        ")\n",
        "testset.initialize()"
      ],
      "metadata": {
        "colab": {
          "base_uri": "https://localhost:8080/"
        },
        "id": "S2GjSG4s1PUT",
        "outputId": "61e998ae-abb8-40dc-e370-5d14537c07dd"
      },
      "execution_count": 8,
      "outputs": [
        {
          "output_type": "stream",
          "name": "stdout",
          "text": [
            "Downloading http://yann.lecun.com/exdb/mnist/train-images-idx3-ubyte.gz\n",
            "Failed to download (trying next):\n",
            "HTTP Error 403: Forbidden\n",
            "\n",
            "Downloading https://ossci-datasets.s3.amazonaws.com/mnist/train-images-idx3-ubyte.gz\n",
            "Downloading https://ossci-datasets.s3.amazonaws.com/mnist/train-images-idx3-ubyte.gz to /data/mnist/MNIST/raw/train-images-idx3-ubyte.gz\n"
          ]
        },
        {
          "output_type": "stream",
          "name": "stderr",
          "text": [
            "100%|██████████| 9912422/9912422 [00:02<00:00, 3774350.38it/s]\n"
          ]
        },
        {
          "output_type": "stream",
          "name": "stdout",
          "text": [
            "Extracting /data/mnist/MNIST/raw/train-images-idx3-ubyte.gz to /data/mnist/MNIST/raw\n",
            "\n",
            "Downloading http://yann.lecun.com/exdb/mnist/train-labels-idx1-ubyte.gz\n",
            "Failed to download (trying next):\n",
            "HTTP Error 403: Forbidden\n",
            "\n",
            "Downloading https://ossci-datasets.s3.amazonaws.com/mnist/train-labels-idx1-ubyte.gz\n",
            "Downloading https://ossci-datasets.s3.amazonaws.com/mnist/train-labels-idx1-ubyte.gz to /data/mnist/MNIST/raw/train-labels-idx1-ubyte.gz\n"
          ]
        },
        {
          "output_type": "stream",
          "name": "stderr",
          "text": [
            "100%|██████████| 28881/28881 [00:00<00:00, 694370.40it/s]\n"
          ]
        },
        {
          "output_type": "stream",
          "name": "stdout",
          "text": [
            "Extracting /data/mnist/MNIST/raw/train-labels-idx1-ubyte.gz to /data/mnist/MNIST/raw\n",
            "\n",
            "Downloading http://yann.lecun.com/exdb/mnist/t10k-images-idx3-ubyte.gz\n",
            "Failed to download (trying next):\n",
            "HTTP Error 403: Forbidden\n",
            "\n",
            "Downloading https://ossci-datasets.s3.amazonaws.com/mnist/t10k-images-idx3-ubyte.gz\n",
            "Downloading https://ossci-datasets.s3.amazonaws.com/mnist/t10k-images-idx3-ubyte.gz to /data/mnist/MNIST/raw/t10k-images-idx3-ubyte.gz\n"
          ]
        },
        {
          "output_type": "stream",
          "name": "stderr",
          "text": [
            "100%|██████████| 1648877/1648877 [00:00<00:00, 5485968.28it/s]\n"
          ]
        },
        {
          "output_type": "stream",
          "name": "stdout",
          "text": [
            "Extracting /data/mnist/MNIST/raw/t10k-images-idx3-ubyte.gz to /data/mnist/MNIST/raw\n",
            "\n",
            "Downloading http://yann.lecun.com/exdb/mnist/t10k-labels-idx1-ubyte.gz\n",
            "Failed to download (trying next):\n",
            "HTTP Error 403: Forbidden\n",
            "\n",
            "Downloading https://ossci-datasets.s3.amazonaws.com/mnist/t10k-labels-idx1-ubyte.gz\n",
            "Downloading https://ossci-datasets.s3.amazonaws.com/mnist/t10k-labels-idx1-ubyte.gz to /data/mnist/MNIST/raw/t10k-labels-idx1-ubyte.gz\n"
          ]
        },
        {
          "output_type": "stream",
          "name": "stderr",
          "text": [
            "100%|██████████| 4542/4542 [00:00<00:00, 1327933.14it/s]"
          ]
        },
        {
          "output_type": "stream",
          "name": "stdout",
          "text": [
            "Extracting /data/mnist/MNIST/raw/t10k-labels-idx1-ubyte.gz to /data/mnist/MNIST/raw\n",
            "\n"
          ]
        },
        {
          "output_type": "stream",
          "name": "stderr",
          "text": [
            "\n",
            "100%|██████████| 48004/48004 [00:08<00:00, 5435.83it/s]\n",
            "100%|██████████| 10000/10000 [00:01<00:00, 5785.63it/s]\n"
          ]
        }
      ]
    },
    {
      "cell_type": "markdown",
      "source": [
        "# 1) Train a model using ERM\n"
      ],
      "metadata": {
        "id": "UnCO4uOSO0DA"
      }
    },
    {
      "cell_type": "code",
      "source": [
        "from spuco.models import model_factory\n",
        "from spuco.robust_train import ERM\n",
        "from torch.optim import SGD\n",
        "\n",
        "model = model_factory('lenet',trainset[0][0].shape,trainset.num_classes)\n",
        "erm = ERM(\n",
        "    model=model,\n",
        "    num_epochs=1,\n",
        "    trainset=trainset,\n",
        "    batch_size=64,\n",
        "    optimizer=SGD(model.parameters(), lr=1e-2, momentum=0.9, nesterov=True),\n",
        "    device=device,\n",
        "    verbose=True\n",
        ")\n",
        "erm.train()"
      ],
      "metadata": {
        "colab": {
          "base_uri": "https://localhost:8080/"
        },
        "id": "y3vMCAos2eGp",
        "outputId": "26ae92fb-ddba-4122-812b-44fcb8fd12ee"
      },
      "execution_count": 9,
      "outputs": [
        {
          "output_type": "stream",
          "name": "stderr",
          "text": [
            "/usr/local/lib/python3.10/dist-packages/torch/utils/data/dataloader.py:558: UserWarning: This DataLoader will create 4 worker processes in total. Our suggested max number of worker in current system is 2, which is smaller than what this DataLoader is going to create. Please be aware that excessive worker creation might get DataLoader running slow or even freeze, lower the worker number to avoid potential slowness/freeze if necessary.\n",
            "  warnings.warn(_create_warning_msg(\n",
            "Epoch 0: 100%|██████████| 751/751 [00:30<00:00, 24.79batch/s, accuracy=100.0%, loss=0.0111]\n"
          ]
        }
      ]
    },
    {
      "cell_type": "code",
      "source": [
        "from spuco.evaluate import Evaluator\n",
        "\n",
        "evaluator = Evaluator(\n",
        "    testset=testset,\n",
        "    group_partition=testset.group_partition,\n",
        "    group_weights=trainset.group_weights,\n",
        "    batch_size=64,\n",
        "    model=model,\n",
        "    device=device,\n",
        "    verbose=True\n",
        ")\n",
        "evaluator.evaluate()"
      ],
      "metadata": {
        "colab": {
          "base_uri": "https://localhost:8080/"
        },
        "id": "KJPuOvZ621fC",
        "outputId": "e34bb6cd-b998-438f-eddc-fd1d185d3b37"
      },
      "execution_count": 10,
      "outputs": [
        {
          "output_type": "stream",
          "name": "stderr",
          "text": [
            "Evaluating group-wise accuracy:   4%|▍         | 1/25 [00:00<00:11,  2.14it/s]"
          ]
        },
        {
          "output_type": "stream",
          "name": "stdout",
          "text": [
            "Group (0, 0) Accuracy: 100.0\n"
          ]
        },
        {
          "output_type": "stream",
          "name": "stderr",
          "text": [
            "\rEvaluating group-wise accuracy:   8%|▊         | 2/25 [00:00<00:09,  2.47it/s]"
          ]
        },
        {
          "output_type": "stream",
          "name": "stdout",
          "text": [
            "Group (0, 1) Accuracy: 0.0\n"
          ]
        },
        {
          "output_type": "stream",
          "name": "stderr",
          "text": [
            "\rEvaluating group-wise accuracy:  12%|█▏        | 3/25 [00:01<00:07,  2.76it/s]"
          ]
        },
        {
          "output_type": "stream",
          "name": "stdout",
          "text": [
            "Group (0, 2) Accuracy: 0.0\n"
          ]
        },
        {
          "output_type": "stream",
          "name": "stderr",
          "text": [
            "\rEvaluating group-wise accuracy:  16%|█▌        | 4/25 [00:01<00:06,  3.00it/s]"
          ]
        },
        {
          "output_type": "stream",
          "name": "stdout",
          "text": [
            "Group (0, 3) Accuracy: 0.0\n"
          ]
        },
        {
          "output_type": "stream",
          "name": "stderr",
          "text": [
            "\rEvaluating group-wise accuracy:  20%|██        | 5/25 [00:01<00:06,  3.16it/s]"
          ]
        },
        {
          "output_type": "stream",
          "name": "stdout",
          "text": [
            "Group (0, 4) Accuracy: 0.0\n"
          ]
        },
        {
          "output_type": "stream",
          "name": "stderr",
          "text": [
            "\rEvaluating group-wise accuracy:  24%|██▍       | 6/25 [00:02<00:05,  3.21it/s]"
          ]
        },
        {
          "output_type": "stream",
          "name": "stdout",
          "text": [
            "Group (1, 0) Accuracy: 0.0\n"
          ]
        },
        {
          "output_type": "stream",
          "name": "stderr",
          "text": [
            "\rEvaluating group-wise accuracy:  28%|██▊       | 7/25 [00:02<00:05,  3.25it/s]"
          ]
        },
        {
          "output_type": "stream",
          "name": "stdout",
          "text": [
            "Group (1, 1) Accuracy: 100.0\n"
          ]
        },
        {
          "output_type": "stream",
          "name": "stderr",
          "text": [
            "\rEvaluating group-wise accuracy:  32%|███▏      | 8/25 [00:02<00:05,  3.32it/s]"
          ]
        },
        {
          "output_type": "stream",
          "name": "stdout",
          "text": [
            "Group (1, 2) Accuracy: 0.0\n"
          ]
        },
        {
          "output_type": "stream",
          "name": "stderr",
          "text": [
            "\rEvaluating group-wise accuracy:  36%|███▌      | 9/25 [00:02<00:04,  3.39it/s]"
          ]
        },
        {
          "output_type": "stream",
          "name": "stdout",
          "text": [
            "Group (1, 3) Accuracy: 0.0\n"
          ]
        },
        {
          "output_type": "stream",
          "name": "stderr",
          "text": [
            "\rEvaluating group-wise accuracy:  40%|████      | 10/25 [00:03<00:04,  3.35it/s]"
          ]
        },
        {
          "output_type": "stream",
          "name": "stdout",
          "text": [
            "Group (1, 4) Accuracy: 0.0\n"
          ]
        },
        {
          "output_type": "stream",
          "name": "stderr",
          "text": [
            "\rEvaluating group-wise accuracy:  44%|████▍     | 11/25 [00:03<00:04,  3.27it/s]"
          ]
        },
        {
          "output_type": "stream",
          "name": "stdout",
          "text": [
            "Group (2, 0) Accuracy: 0.0\n"
          ]
        },
        {
          "output_type": "stream",
          "name": "stderr",
          "text": [
            "\rEvaluating group-wise accuracy:  48%|████▊     | 12/25 [00:03<00:03,  3.37it/s]"
          ]
        },
        {
          "output_type": "stream",
          "name": "stdout",
          "text": [
            "Group (2, 1) Accuracy: 0.0\n"
          ]
        },
        {
          "output_type": "stream",
          "name": "stderr",
          "text": [
            "\rEvaluating group-wise accuracy:  52%|█████▏    | 13/25 [00:04<00:03,  3.34it/s]"
          ]
        },
        {
          "output_type": "stream",
          "name": "stdout",
          "text": [
            "Group (2, 2) Accuracy: 100.0\n"
          ]
        },
        {
          "output_type": "stream",
          "name": "stderr",
          "text": [
            "\rEvaluating group-wise accuracy:  56%|█████▌    | 14/25 [00:04<00:03,  3.39it/s]"
          ]
        },
        {
          "output_type": "stream",
          "name": "stdout",
          "text": [
            "Group (2, 3) Accuracy: 0.0\n"
          ]
        },
        {
          "output_type": "stream",
          "name": "stderr",
          "text": [
            "\rEvaluating group-wise accuracy:  60%|██████    | 15/25 [00:04<00:02,  3.42it/s]"
          ]
        },
        {
          "output_type": "stream",
          "name": "stdout",
          "text": [
            "Group (2, 4) Accuracy: 0.0\n"
          ]
        },
        {
          "output_type": "stream",
          "name": "stderr",
          "text": [
            "\rEvaluating group-wise accuracy:  64%|██████▍   | 16/25 [00:04<00:02,  3.43it/s]"
          ]
        },
        {
          "output_type": "stream",
          "name": "stdout",
          "text": [
            "Group (3, 0) Accuracy: 0.0\n"
          ]
        },
        {
          "output_type": "stream",
          "name": "stderr",
          "text": [
            "\rEvaluating group-wise accuracy:  68%|██████▊   | 17/25 [00:05<00:02,  3.32it/s]"
          ]
        },
        {
          "output_type": "stream",
          "name": "stdout",
          "text": [
            "Group (3, 1) Accuracy: 0.0\n"
          ]
        },
        {
          "output_type": "stream",
          "name": "stderr",
          "text": [
            "\rEvaluating group-wise accuracy:  72%|███████▏  | 18/25 [00:05<00:02,  3.36it/s]"
          ]
        },
        {
          "output_type": "stream",
          "name": "stdout",
          "text": [
            "Group (3, 2) Accuracy: 0.0\n"
          ]
        },
        {
          "output_type": "stream",
          "name": "stderr",
          "text": [
            "\rEvaluating group-wise accuracy:  76%|███████▌  | 19/25 [00:05<00:01,  3.39it/s]"
          ]
        },
        {
          "output_type": "stream",
          "name": "stdout",
          "text": [
            "Group (3, 3) Accuracy: 100.0\n"
          ]
        },
        {
          "output_type": "stream",
          "name": "stderr",
          "text": [
            "\rEvaluating group-wise accuracy:  80%|████████  | 20/25 [00:06<00:01,  3.38it/s]"
          ]
        },
        {
          "output_type": "stream",
          "name": "stdout",
          "text": [
            "Group (3, 4) Accuracy: 0.0\n"
          ]
        },
        {
          "output_type": "stream",
          "name": "stderr",
          "text": [
            "\rEvaluating group-wise accuracy:  84%|████████▍ | 21/25 [00:06<00:01,  3.37it/s]"
          ]
        },
        {
          "output_type": "stream",
          "name": "stdout",
          "text": [
            "Group (4, 0) Accuracy: 0.0\n"
          ]
        },
        {
          "output_type": "stream",
          "name": "stderr",
          "text": [
            "\rEvaluating group-wise accuracy:  88%|████████▊ | 22/25 [00:06<00:00,  3.40it/s]"
          ]
        },
        {
          "output_type": "stream",
          "name": "stdout",
          "text": [
            "Group (4, 1) Accuracy: 0.0\n"
          ]
        },
        {
          "output_type": "stream",
          "name": "stderr",
          "text": [
            "\rEvaluating group-wise accuracy:  92%|█████████▏| 23/25 [00:07<00:00,  3.42it/s]"
          ]
        },
        {
          "output_type": "stream",
          "name": "stdout",
          "text": [
            "Group (4, 2) Accuracy: 0.0\n"
          ]
        },
        {
          "output_type": "stream",
          "name": "stderr",
          "text": [
            "\rEvaluating group-wise accuracy:  96%|█████████▌| 24/25 [00:07<00:00,  3.36it/s]"
          ]
        },
        {
          "output_type": "stream",
          "name": "stdout",
          "text": [
            "Group (4, 3) Accuracy: 0.0\n"
          ]
        },
        {
          "output_type": "stream",
          "name": "stderr",
          "text": [
            "Evaluating group-wise accuracy: 100%|██████████| 25/25 [00:07<00:00,  3.27it/s]"
          ]
        },
        {
          "output_type": "stream",
          "name": "stdout",
          "text": [
            "Group (4, 4) Accuracy: 100.0\n"
          ]
        },
        {
          "output_type": "stream",
          "name": "stderr",
          "text": [
            "\n"
          ]
        },
        {
          "output_type": "execute_result",
          "data": {
            "text/plain": [
              "{(0, 0): 100.0,\n",
              " (0, 1): 0.0,\n",
              " (0, 2): 0.0,\n",
              " (0, 3): 0.0,\n",
              " (0, 4): 0.0,\n",
              " (1, 0): 0.0,\n",
              " (1, 1): 100.0,\n",
              " (1, 2): 0.0,\n",
              " (1, 3): 0.0,\n",
              " (1, 4): 0.0,\n",
              " (2, 0): 0.0,\n",
              " (2, 1): 0.0,\n",
              " (2, 2): 100.0,\n",
              " (2, 3): 0.0,\n",
              " (2, 4): 0.0,\n",
              " (3, 0): 0.0,\n",
              " (3, 1): 0.0,\n",
              " (3, 2): 0.0,\n",
              " (3, 3): 100.0,\n",
              " (3, 4): 0.0,\n",
              " (4, 0): 0.0,\n",
              " (4, 1): 0.0,\n",
              " (4, 2): 0.0,\n",
              " (4, 3): 0.0,\n",
              " (4, 4): 100.0}"
            ]
          },
          "metadata": {},
          "execution_count": 10
        }
      ]
    },
    {
      "cell_type": "markdown",
      "source": [
        "# 2) Cluster inputs based on the output they produce for ERM"
      ],
      "metadata": {
        "id": "mVO9-Y_dPET5"
      }
    },
    {
      "cell_type": "code",
      "source": [
        "from spuco.group_inference import Cluster, ClusterAlg\n",
        "\n",
        "logits = erm.trainer.get_trainset_outputs()\n",
        "cluster = Cluster(\n",
        "    Z=logits,\n",
        "    class_labels=trainset.labels,\n",
        "    cluster_alg=ClusterAlg.KMEANS,\n",
        "    num_clusters=2,\n",
        "    device=device,\n",
        "    verbose=True\n",
        ")\n",
        "group_partition = cluster.infer_groups()"
      ],
      "metadata": {
        "colab": {
          "base_uri": "https://localhost:8080/"
        },
        "id": "fkL3G1DhCBxb",
        "outputId": "02064363-c565-44f5-9924-7fbc4a3eb538"
      },
      "execution_count": 11,
      "outputs": [
        {
          "output_type": "stream",
          "name": "stderr",
          "text": [
            "Getting Trainset Outputs: 100%|██████████| 751/751 [00:08<00:00, 84.36batch/s] \n",
            "Clustering class-wise: 100%|██████████| 5/5 [00:00<00:00, 16.96it/s]\n"
          ]
        }
      ]
    },
    {
      "cell_type": "code",
      "source": [
        "for key in sorted(group_partition.keys()):\n",
        "    print(key, len(group_partition[key]))"
      ],
      "metadata": {
        "colab": {
          "base_uri": "https://localhost:8080/"
        },
        "id": "-kY8ybfzCTVH",
        "outputId": "b0bea825-88c6-48f9-e4ab-2c241d02d2cb"
      },
      "execution_count": 12,
      "outputs": [
        {
          "output_type": "stream",
          "name": "stdout",
          "text": [
            "(0, 0) 10082\n",
            "(0, 1) 51\n",
            "(1, 0) 9623\n",
            "(1, 1) 49\n",
            "(2, 0) 8965\n",
            "(2, 1) 46\n",
            "(3, 0) 9698\n",
            "(3, 1) 49\n",
            "(4, 0) 9393\n",
            "(4, 1) 48\n"
          ]
        }
      ]
    },
    {
      "cell_type": "code",
      "source": [
        "from spuco.evaluate import Evaluator\n",
        "\n",
        "evaluator = Evaluator(\n",
        "    testset=trainset,\n",
        "    group_partition=group_partition,\n",
        "    group_weights=trainset.group_weights,\n",
        "    batch_size=64,\n",
        "    model=model,\n",
        "    device=device,\n",
        "    verbose=True\n",
        ")\n",
        "evaluator.evaluate()"
      ],
      "metadata": {
        "colab": {
          "base_uri": "https://localhost:8080/"
        },
        "id": "5OpVtRzoCT5T",
        "outputId": "fbcbbb4f-237f-4719-d277-552f09ff5ac5"
      },
      "execution_count": 13,
      "outputs": [
        {
          "output_type": "stream",
          "name": "stderr",
          "text": [
            "/usr/local/lib/python3.10/dist-packages/torch/utils/data/dataloader.py:558: UserWarning: This DataLoader will create 4 worker processes in total. Our suggested max number of worker in current system is 2, which is smaller than what this DataLoader is going to create. Please be aware that excessive worker creation might get DataLoader running slow or even freeze, lower the worker number to avoid potential slowness/freeze if necessary.\n",
            "  warnings.warn(_create_warning_msg(\n",
            "Evaluating group-wise accuracy:  10%|█         | 1/10 [00:01<00:16,  1.80s/it]"
          ]
        },
        {
          "output_type": "stream",
          "name": "stdout",
          "text": [
            "Group (0, 0) Accuracy: 100.0\n"
          ]
        },
        {
          "output_type": "stream",
          "name": "stderr",
          "text": [
            "\rEvaluating group-wise accuracy:  20%|██        | 2/10 [00:02<00:07,  1.14it/s]"
          ]
        },
        {
          "output_type": "stream",
          "name": "stdout",
          "text": [
            "Group (0, 1) Accuracy: 0.0\n"
          ]
        },
        {
          "output_type": "stream",
          "name": "stderr",
          "text": [
            "\rEvaluating group-wise accuracy:  30%|███       | 3/10 [00:03<00:08,  1.25s/it]"
          ]
        },
        {
          "output_type": "stream",
          "name": "stdout",
          "text": [
            "Group (1, 0) Accuracy: 100.0\n"
          ]
        },
        {
          "output_type": "stream",
          "name": "stderr",
          "text": [
            "\rEvaluating group-wise accuracy:  40%|████      | 4/10 [00:03<00:05,  1.17it/s]"
          ]
        },
        {
          "output_type": "stream",
          "name": "stdout",
          "text": [
            "Group (1, 1) Accuracy: 0.0\n"
          ]
        },
        {
          "output_type": "stream",
          "name": "stderr",
          "text": [
            "\rEvaluating group-wise accuracy:  50%|█████     | 5/10 [00:05<00:05,  1.11s/it]"
          ]
        },
        {
          "output_type": "stream",
          "name": "stdout",
          "text": [
            "Group (2, 0) Accuracy: 100.0\n"
          ]
        },
        {
          "output_type": "stream",
          "name": "stderr",
          "text": [
            "\rEvaluating group-wise accuracy:  60%|██████    | 6/10 [00:05<00:03,  1.23it/s]"
          ]
        },
        {
          "output_type": "stream",
          "name": "stdout",
          "text": [
            "Group (2, 1) Accuracy: 0.0\n"
          ]
        },
        {
          "output_type": "stream",
          "name": "stderr",
          "text": [
            "\rEvaluating group-wise accuracy:  70%|███████   | 7/10 [00:07<00:03,  1.10s/it]"
          ]
        },
        {
          "output_type": "stream",
          "name": "stdout",
          "text": [
            "Group (3, 0) Accuracy: 100.0\n"
          ]
        },
        {
          "output_type": "stream",
          "name": "stderr",
          "text": [
            "\rEvaluating group-wise accuracy:  80%|████████  | 8/10 [00:07<00:01,  1.22it/s]"
          ]
        },
        {
          "output_type": "stream",
          "name": "stdout",
          "text": [
            "Group (3, 1) Accuracy: 0.0\n"
          ]
        },
        {
          "output_type": "stream",
          "name": "stderr",
          "text": [
            "\rEvaluating group-wise accuracy:  90%|█████████ | 9/10 [00:10<00:01,  1.33s/it]"
          ]
        },
        {
          "output_type": "stream",
          "name": "stdout",
          "text": [
            "Group (4, 0) Accuracy: 100.0\n"
          ]
        },
        {
          "output_type": "stream",
          "name": "stderr",
          "text": [
            "Evaluating group-wise accuracy: 100%|██████████| 10/10 [00:10<00:00,  1.05s/it]"
          ]
        },
        {
          "output_type": "stream",
          "name": "stdout",
          "text": [
            "Group (4, 1) Accuracy: 0.0\n"
          ]
        },
        {
          "output_type": "stream",
          "name": "stderr",
          "text": [
            "\n"
          ]
        },
        {
          "output_type": "execute_result",
          "data": {
            "text/plain": [
              "{(0, 0): 100.0,\n",
              " (0, 1): 0.0,\n",
              " (1, 0): 100.0,\n",
              " (1, 1): 0.0,\n",
              " (2, 0): 100.0,\n",
              " (2, 1): 0.0,\n",
              " (3, 0): 100.0,\n",
              " (3, 1): 0.0,\n",
              " (4, 0): 100.0,\n",
              " (4, 1): 0.0}"
            ]
          },
          "metadata": {},
          "execution_count": 13
        }
      ]
    },
    {
      "cell_type": "markdown",
      "source": [
        "# 3) Retrain using \"Group-Balancing\" to ensure in each batch each group appears equally.\n"
      ],
      "metadata": {
        "id": "LVC8bc4uPJ44"
      }
    },
    {
      "cell_type": "code",
      "source": [
        "from spuco.robust_train import GroupBalanceBatchERM\n",
        "\n",
        "group_balance = GroupBalanceBatchERM(\n",
        "    model=model,\n",
        "    num_epochs=5,\n",
        "    trainset=trainset,\n",
        "    group_partition=trainset.group_partition,\n",
        "    batch_size=64,\n",
        "    optimizer=torch.optim.SGD(model.parameters(), lr=1e-2, weight_decay = 5e-4, momentum=0.9, nesterov=True),\n",
        "    device=device,\n",
        "    verbose=True\n",
        ")\n",
        "group_balance.train()\n",
        "\n",
        "evaluator = Evaluator(\n",
        "    testset=testset,\n",
        "    group_partition=testset.group_partition,\n",
        "    group_weights=trainset.group_weights,\n",
        "    batch_size=64,\n",
        "    model=model,\n",
        "    device=device,\n",
        "    verbose=True\n",
        ")\n",
        "evaluator.evaluate()"
      ],
      "metadata": {
        "colab": {
          "base_uri": "https://localhost:8080/"
        },
        "id": "i-aF2hpqCYM3",
        "outputId": "a163833a-5e7f-407f-ddc6-7e8edd33fcb3"
      },
      "execution_count": 14,
      "outputs": [
        {
          "output_type": "stream",
          "name": "stderr",
          "text": [
            "Epoch 0: 100%|██████████| 751/751 [00:17<00:00, 43.64batch/s, accuracy=100.0%, loss=0.0252]\n",
            "Epoch 1: 100%|██████████| 751/751 [00:17<00:00, 43.96batch/s, accuracy=100.0%, loss=0.00357]\n",
            "Epoch 2: 100%|██████████| 751/751 [00:18<00:00, 39.58batch/s, accuracy=100.0%, loss=0.00198]\n",
            "Epoch 3: 100%|██████████| 751/751 [00:17<00:00, 43.03batch/s, accuracy=100.0%, loss=0.00036]\n",
            "Epoch 4: 100%|██████████| 751/751 [00:18<00:00, 40.83batch/s, accuracy=100.0%, loss=0.000361]\n",
            "Evaluating group-wise accuracy:   4%|▍         | 1/25 [00:00<00:11,  2.05it/s]"
          ]
        },
        {
          "output_type": "stream",
          "name": "stdout",
          "text": [
            "Group (0, 0) Accuracy: 99.52718676122932\n"
          ]
        },
        {
          "output_type": "stream",
          "name": "stderr",
          "text": [
            "\rEvaluating group-wise accuracy:   8%|▊         | 2/25 [00:00<00:08,  2.61it/s]"
          ]
        },
        {
          "output_type": "stream",
          "name": "stdout",
          "text": [
            "Group (0, 1) Accuracy: 81.7966903073286\n"
          ]
        },
        {
          "output_type": "stream",
          "name": "stderr",
          "text": [
            "\rEvaluating group-wise accuracy:  12%|█▏        | 3/25 [00:01<00:07,  2.82it/s]"
          ]
        },
        {
          "output_type": "stream",
          "name": "stdout",
          "text": [
            "Group (0, 2) Accuracy: 79.43262411347517\n"
          ]
        },
        {
          "output_type": "stream",
          "name": "stderr",
          "text": [
            "\rEvaluating group-wise accuracy:  16%|█▌        | 4/25 [00:01<00:07,  2.99it/s]"
          ]
        },
        {
          "output_type": "stream",
          "name": "stdout",
          "text": [
            "Group (0, 3) Accuracy: 64.30260047281324\n"
          ]
        },
        {
          "output_type": "stream",
          "name": "stderr",
          "text": [
            "\rEvaluating group-wise accuracy:  20%|██        | 5/25 [00:01<00:06,  3.08it/s]"
          ]
        },
        {
          "output_type": "stream",
          "name": "stdout",
          "text": [
            "Group (0, 4) Accuracy: 87.94326241134752\n"
          ]
        },
        {
          "output_type": "stream",
          "name": "stderr",
          "text": [
            "\rEvaluating group-wise accuracy:  24%|██▍       | 6/25 [00:02<00:06,  3.15it/s]"
          ]
        },
        {
          "output_type": "stream",
          "name": "stdout",
          "text": [
            "Group (1, 0) Accuracy: 86.79706601466992\n"
          ]
        },
        {
          "output_type": "stream",
          "name": "stderr",
          "text": [
            "\rEvaluating group-wise accuracy:  28%|██▊       | 7/25 [00:02<00:05,  3.18it/s]"
          ]
        },
        {
          "output_type": "stream",
          "name": "stdout",
          "text": [
            "Group (1, 1) Accuracy: 99.02200488997555\n"
          ]
        },
        {
          "output_type": "stream",
          "name": "stderr",
          "text": [
            "\rEvaluating group-wise accuracy:  32%|███▏      | 8/25 [00:02<00:05,  3.22it/s]"
          ]
        },
        {
          "output_type": "stream",
          "name": "stdout",
          "text": [
            "Group (1, 2) Accuracy: 83.82352941176471\n"
          ]
        },
        {
          "output_type": "stream",
          "name": "stderr",
          "text": [
            "\rEvaluating group-wise accuracy:  36%|███▌      | 9/25 [00:02<00:04,  3.24it/s]"
          ]
        },
        {
          "output_type": "stream",
          "name": "stdout",
          "text": [
            "Group (1, 3) Accuracy: 82.59803921568627\n"
          ]
        },
        {
          "output_type": "stream",
          "name": "stderr",
          "text": [
            "\rEvaluating group-wise accuracy:  40%|████      | 10/25 [00:03<00:04,  3.20it/s]"
          ]
        },
        {
          "output_type": "stream",
          "name": "stdout",
          "text": [
            "Group (1, 4) Accuracy: 76.22549019607843\n"
          ]
        },
        {
          "output_type": "stream",
          "name": "stderr",
          "text": [
            "\rEvaluating group-wise accuracy:  44%|████▍     | 11/25 [00:03<00:04,  3.25it/s]"
          ]
        },
        {
          "output_type": "stream",
          "name": "stdout",
          "text": [
            "Group (2, 0) Accuracy: 74.66666666666667\n"
          ]
        },
        {
          "output_type": "stream",
          "name": "stderr",
          "text": [
            "\rEvaluating group-wise accuracy:  48%|████▊     | 12/25 [00:03<00:03,  3.28it/s]"
          ]
        },
        {
          "output_type": "stream",
          "name": "stdout",
          "text": [
            "Group (2, 1) Accuracy: 67.73333333333333\n"
          ]
        },
        {
          "output_type": "stream",
          "name": "stderr",
          "text": [
            "\rEvaluating group-wise accuracy:  52%|█████▏    | 13/25 [00:04<00:03,  3.24it/s]"
          ]
        },
        {
          "output_type": "stream",
          "name": "stdout",
          "text": [
            "Group (2, 2) Accuracy: 99.46666666666667\n"
          ]
        },
        {
          "output_type": "stream",
          "name": "stderr",
          "text": [
            "\rEvaluating group-wise accuracy:  56%|█████▌    | 14/25 [00:04<00:03,  3.28it/s]"
          ]
        },
        {
          "output_type": "stream",
          "name": "stdout",
          "text": [
            "Group (2, 3) Accuracy: 40.8\n"
          ]
        },
        {
          "output_type": "stream",
          "name": "stderr",
          "text": [
            "\rEvaluating group-wise accuracy:  60%|██████    | 15/25 [00:04<00:03,  3.28it/s]"
          ]
        },
        {
          "output_type": "stream",
          "name": "stdout",
          "text": [
            "Group (2, 4) Accuracy: 43.04812834224599\n"
          ]
        },
        {
          "output_type": "stream",
          "name": "stderr",
          "text": [
            "\rEvaluating group-wise accuracy:  64%|██████▍   | 16/25 [00:05<00:02,  3.29it/s]"
          ]
        },
        {
          "output_type": "stream",
          "name": "stdout",
          "text": [
            "Group (3, 0) Accuracy: 84.42211055276383\n"
          ]
        },
        {
          "output_type": "stream",
          "name": "stderr",
          "text": [
            "\rEvaluating group-wise accuracy:  68%|██████▊   | 17/25 [00:05<00:02,  3.23it/s]"
          ]
        },
        {
          "output_type": "stream",
          "name": "stdout",
          "text": [
            "Group (3, 1) Accuracy: 82.87153652392946\n"
          ]
        },
        {
          "output_type": "stream",
          "name": "stderr",
          "text": [
            "\rEvaluating group-wise accuracy:  72%|███████▏  | 18/25 [00:05<00:02,  3.25it/s]"
          ]
        },
        {
          "output_type": "stream",
          "name": "stdout",
          "text": [
            "Group (3, 2) Accuracy: 88.66498740554157\n"
          ]
        },
        {
          "output_type": "stream",
          "name": "stderr",
          "text": [
            "\rEvaluating group-wise accuracy:  76%|███████▌  | 19/25 [00:06<00:01,  3.26it/s]"
          ]
        },
        {
          "output_type": "stream",
          "name": "stdout",
          "text": [
            "Group (3, 3) Accuracy: 98.48866498740554\n"
          ]
        },
        {
          "output_type": "stream",
          "name": "stderr",
          "text": [
            "\rEvaluating group-wise accuracy:  80%|████████  | 20/25 [00:06<00:01,  3.24it/s]"
          ]
        },
        {
          "output_type": "stream",
          "name": "stdout",
          "text": [
            "Group (3, 4) Accuracy: 85.64231738035265\n"
          ]
        },
        {
          "output_type": "stream",
          "name": "stderr",
          "text": [
            "\rEvaluating group-wise accuracy:  84%|████████▍ | 21/25 [00:06<00:01,  3.24it/s]"
          ]
        },
        {
          "output_type": "stream",
          "name": "stdout",
          "text": [
            "Group (4, 0) Accuracy: 80.10075566750629\n"
          ]
        },
        {
          "output_type": "stream",
          "name": "stderr",
          "text": [
            "\rEvaluating group-wise accuracy:  88%|████████▊ | 22/25 [00:06<00:00,  3.24it/s]"
          ]
        },
        {
          "output_type": "stream",
          "name": "stdout",
          "text": [
            "Group (4, 1) Accuracy: 54.659949622166245\n"
          ]
        },
        {
          "output_type": "stream",
          "name": "stderr",
          "text": [
            "\rEvaluating group-wise accuracy:  92%|█████████▏| 23/25 [00:07<00:00,  3.10it/s]"
          ]
        },
        {
          "output_type": "stream",
          "name": "stdout",
          "text": [
            "Group (4, 2) Accuracy: 53.65239294710327\n"
          ]
        },
        {
          "output_type": "stream",
          "name": "stderr",
          "text": [
            "\rEvaluating group-wise accuracy:  96%|█████████▌| 24/25 [00:07<00:00,  3.18it/s]"
          ]
        },
        {
          "output_type": "stream",
          "name": "stdout",
          "text": [
            "Group (4, 3) Accuracy: 41.91919191919192\n"
          ]
        },
        {
          "output_type": "stream",
          "name": "stderr",
          "text": [
            "Evaluating group-wise accuracy: 100%|██████████| 25/25 [00:07<00:00,  3.16it/s]"
          ]
        },
        {
          "output_type": "stream",
          "name": "stdout",
          "text": [
            "Group (4, 4) Accuracy: 99.24242424242425\n"
          ]
        },
        {
          "output_type": "stream",
          "name": "stderr",
          "text": [
            "\n"
          ]
        },
        {
          "output_type": "execute_result",
          "data": {
            "text/plain": [
              "{(0, 0): 99.52718676122932,\n",
              " (0, 1): 81.7966903073286,\n",
              " (0, 2): 79.43262411347517,\n",
              " (0, 3): 64.30260047281324,\n",
              " (0, 4): 87.94326241134752,\n",
              " (1, 0): 86.79706601466992,\n",
              " (1, 1): 99.02200488997555,\n",
              " (1, 2): 83.82352941176471,\n",
              " (1, 3): 82.59803921568627,\n",
              " (1, 4): 76.22549019607843,\n",
              " (2, 0): 74.66666666666667,\n",
              " (2, 1): 67.73333333333333,\n",
              " (2, 2): 99.46666666666667,\n",
              " (2, 3): 40.8,\n",
              " (2, 4): 43.04812834224599,\n",
              " (3, 0): 84.42211055276383,\n",
              " (3, 1): 82.87153652392946,\n",
              " (3, 2): 88.66498740554157,\n",
              " (3, 3): 98.48866498740554,\n",
              " (3, 4): 85.64231738035265,\n",
              " (4, 0): 80.10075566750629,\n",
              " (4, 1): 54.659949622166245,\n",
              " (4, 2): 53.65239294710327,\n",
              " (4, 3): 41.91919191919192,\n",
              " (4, 4): 99.24242424242425}"
            ]
          },
          "metadata": {},
          "execution_count": 14
        }
      ]
    },
    {
      "cell_type": "code",
      "source": [
        "evaluator.worst_group_accuracy\n",
        "# ((2, 4), 35.026737967914436)\n"
      ],
      "metadata": {
        "colab": {
          "base_uri": "https://localhost:8080/"
        },
        "id": "Mw-or8XpEFgC",
        "outputId": "dd338ecb-eae0-4a4a-d486-5d623c41f4bb"
      },
      "execution_count": 15,
      "outputs": [
        {
          "output_type": "execute_result",
          "data": {
            "text/plain": [
              "((2, 3), 40.8)"
            ]
          },
          "metadata": {},
          "execution_count": 15
        }
      ]
    },
    {
      "cell_type": "code",
      "source": [
        "evaluator.average_accuracy\n",
        "# 99.66139282632827\\\\"
      ],
      "metadata": {
        "colab": {
          "base_uri": "https://localhost:8080/"
        },
        "id": "y-vI5BhFE8Gu",
        "outputId": "5a099431-815a-42e4-a764-24cf94c40710"
      },
      "execution_count": 16,
      "outputs": [
        {
          "output_type": "execute_result",
          "data": {
            "text/plain": [
              "99.0135106567585"
            ]
          },
          "metadata": {},
          "execution_count": 16
        }
      ]
    },
    {
      "cell_type": "code",
      "source": [
        "\n",
        "evaluator.evaluate_spurious_attribute_prediction()"
      ],
      "metadata": {
        "colab": {
          "base_uri": "https://localhost:8080/"
        },
        "id": "QwU-A-3fFFSD",
        "outputId": "95f99f88-4a94-4af3-9fcc-bcfbfacfb139"
      },
      "execution_count": 17,
      "outputs": [
        {
          "output_type": "execute_result",
          "data": {
            "text/plain": [
              "36.93"
            ]
          },
          "metadata": {},
          "execution_count": 17
        }
      ]
    },
    {
      "cell_type": "code",
      "source": [],
      "metadata": {
        "id": "enfyReK3FF3g"
      },
      "execution_count": 17,
      "outputs": []
    }
  ]
}